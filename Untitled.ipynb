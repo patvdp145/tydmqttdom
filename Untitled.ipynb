{
 "cells": [
  {
   "cell_type": "markdown",
   "metadata": {},
   "source": [
    "Ce qui fonctionne"
   ]
  },
  {
   "cell_type": "code",
   "execution_count": null,
   "metadata": {},
   "outputs": [],
   "source": [
    "patrick@patrick-Lenovo-G50-70:~/tydmqttdom$ mosquitto_pub -h 192.168.1.46 -t \"domoticz/in\" -m '{\"command\": \"switchlight\", \"idx\": 502, \"switchcmd\": \"Set Level\", \"level\": 0 }'\n",
    "patrick@patrick-Lenovo-G50-70:~/tydmqttdom$ mosquitto_pub -h 192.168.1.46 -t \"domoticz/in\" -m '{\"command\": \"switchlight\", \"idx\": 502, \"switchcmd\": \"Set Level\", \"level\": 30 }'"
   ]
  },
  {
   "cell_type": "markdown",
   "metadata": {},
   "source": [
    "Actuellement, dans electric.py, tout le mqtt issu du serveur tydom est publié dans electric/tydom. Rien dans domoticz/in:\n"
   ]
  },
  {
   "cell_type": "code",
   "execution_count": null,
   "metadata": {},
   "outputs": [],
   "source": [
    "electric/tydom/1603042940_1603042940/config {\"name\": \"Radiateur 1\", \"state_topic\": \"electric/tydom/1603042940_1603042940/current_level\", \"json_attributes_topic\": \"electric/tydom/1603042940_1603042940/attributes\", \"device\": {\"manufacturer\": \"Delta Dore\", \"model\": \"Radiateur\", \"name\": \"Radiateur 1\", \"identifiers\": \"1603042940_1603042940\"}}\n",
    "electric/tydom/1603042940_1603042940/current_level COMFORT\n",
    "electric/tydom/1603042940_1603042940/attributes {\"device_id\": 1603042940, \"endpoint_id\": 1603042940, \"id\": \"1603042940_1603042940\", \"light_name\": \"Radiateur 1\", \"name\": \"Radiateur 1\", \"device_type\": \"electric\", \"thermicLevel\": \"COMFORT\"}"
   ]
  },
  {
   "cell_type": "markdown",
   "metadata": {},
   "source": [
    "Un peu mieux : domoticz/in COMFORT\n",
    "Les modifications faites sur l'appli arrivent!\n",
    "Formater le mqtt vers domoticz/in comme indiqué dans lescommandes mosquitto_pub ci-dessus"
   ]
  },
  {
   "cell_type": "markdown",
   "metadata": {},
   "source": [
    "dans mqtt_client :\n"
   ]
  },
  {
   "cell_type": "code",
   "execution_count": null,
   "metadata": {},
   "outputs": [],
   "source": [
    "MQTT electric self.config:  {'name': 'Radiateur 1', 'state_topic': 'domoticz/in', 'json_attributes_topic': 'electric/tydom/1603042940_1603042940/attributes', 'device': {'manufacturer': 'Delta Dore', 'model': 'Radiateur', 'name': 'Radiateur 1', 'identifiers': '1603042940_1603042940'}}\n",
    "electric created / updated :  Radiateur 1 1603042940_1603042940 ANTI_FROST\n"
   ]
  }
 ],
 "metadata": {
  "kernelspec": {
   "display_name": "",
   "name": ""
  },
  "language_info": {
   "name": ""
  }
 },
 "nbformat": 4,
 "nbformat_minor": 4
}
